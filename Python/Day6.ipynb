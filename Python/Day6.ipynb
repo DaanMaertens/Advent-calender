{
 "cells": [
  {
   "cell_type": "code",
   "execution_count": 1,
   "id": "f5fc05ed",
   "metadata": {},
   "outputs": [],
   "source": [
    "from re import findall,search,finditer"
   ]
  },
  {
   "cell_type": "code",
   "execution_count": 2,
   "id": "cc34d515",
   "metadata": {},
   "outputs": [],
   "source": [
    "class Grid:\n",
    "    def __init__(self, text):\n",
    "        textgrid = text.rstrip().split(\"\\n\")\n",
    "        self.lx = len(textgrid[0])\n",
    "        self.ly = len(textgrid)\n",
    "        self.textgrid = [list(line) for line in textgrid]\n",
    "        guard_info = search(\"\\\\^|v|<|>\",\"\".join(textgrid))\n",
    "        self.guard_pos = self.lin_to_grid(guard_info.start(0))\n",
    "        self.guard_dir = guard_info.group()\n",
    "        # self.obstacles = {self.lin_to_grid(x.start(0)): x.group() for x in finditer(\"#\",\"\".join(textgrid))}\n",
    "        self.obstacles = [self.lin_to_grid(x.start(0)) for x in finditer(\"#\",\"\".join(textgrid))]\n",
    "        self.added_obstacles = []\n",
    "        self.moves = []\n",
    "        self.turnrules = {\"^\":\">\",\">\":\"v\",\"v\":\"<\",\"<\":\"^\"}\n",
    "\n",
    "    def lin_to_grid(self, pos):\n",
    "        return (pos // self.ly, pos % self.lx)\n",
    "\n",
    "    def grid_to_lin(self, index):\n",
    "        return index[0]*self.ly+index[1]\n",
    "\n",
    "    def __repr__(self):\n",
    "        return \"\\n\".join([\"\".join(line) for line in self.textgrid])\n",
    "\n",
    "    def reset(self,init):\n",
    "        self.guard_pos = init#(130, 24)\n",
    "        self.guard_dir = \"^\"\n",
    "        self.added_obstacles = []\n",
    "        self.moves = []\n",
    "        self.textgrid = [[\".\" if x == \"X\" else x for x in line] for line in self.textgrid]\n",
    "        self.textgrid[init[0]][init[1]] = \"^\" #[130][24] = \n",
    "\n",
    "    def add_obstacle(self,pos):\n",
    "        self.added_obstacles.append(pos)\n",
    "        #self.textgrid[pos[0]][pos[1]] = \"O\"\n",
    "\n",
    "    def within_bounds(self,pos):\n",
    "        return (0 <= pos[0] < self.ly) and (0 <= pos[1] < self.lx)\n",
    "\n",
    "    def within_loop(self):\n",
    "        return (self.guard_pos,self.guard_dir) in self.moves\n",
    "\n",
    "    def move_one_step(self):\n",
    "        if self.guard_dir == \"^\":\n",
    "            new_pos = (self.guard_pos[0]-1,self.guard_pos[1])\n",
    "        elif self.guard_dir == \">\":\n",
    "            new_pos = (self.guard_pos[0],self.guard_pos[1]+1)\n",
    "        elif self.guard_dir == \"<\":\n",
    "            new_pos = (self.guard_pos[0],self.guard_pos[1]-1)\n",
    "        elif self.guard_dir == \"v\":\n",
    "            new_pos = (self.guard_pos[0]+1,self.guard_pos[1])\n",
    "        if (new_pos in self.obstacles) or (new_pos in self.added_obstacles):\n",
    "            self.guard_dir = self.turnrules[self.guard_dir]\n",
    "            self.textgrid[self.guard_pos[0]][self.guard_pos[1]] = self.guard_dir\n",
    "        else:\n",
    "            self.textgrid[self.guard_pos[0]][self.guard_pos[1]] = \"X\"\n",
    "            self.moves.append((self.guard_pos,self.guard_dir))\n",
    "            self.guard_pos = new_pos  \n",
    "            if self.within_bounds(self.guard_pos):  \n",
    "                self.textgrid[new_pos[0]][new_pos[1]] = self.guard_dir   \n",
    "\n",
    "    def move_until_gone(self):\n",
    "        while self.within_bounds(self.guard_pos) and not self.within_loop():\n",
    "            self.move_one_step()\n",
    "        if self.within_loop():\n",
    "            return False\n",
    "        else:\n",
    "            return True"
   ]
  },
  {
   "cell_type": "markdown",
   "id": "2e9bf853",
   "metadata": {},
   "source": [
    "## Example"
   ]
  },
  {
   "cell_type": "code",
   "execution_count": 3,
   "id": "b192b194",
   "metadata": {},
   "outputs": [],
   "source": [
    "test = \"\"\"....#.....\n",
    ".........#\n",
    "..........\n",
    "..#.......\n",
    ".......#..\n",
    "..........\n",
    ".#..^.....\n",
    "........#.\n",
    "#.........\n",
    "......#...\"\"\""
   ]
  },
  {
   "cell_type": "code",
   "execution_count": null,
   "id": "a03fb591",
   "metadata": {},
   "outputs": [],
   "source": [
    "tmp = Grid(test)\n",
    "for _ in range(0,10):\n",
    "    print(tmp)\n",
    "    tmp.move_one_step()\n",
    "    print(\"\\n\")"
   ]
  },
  {
   "cell_type": "code",
   "execution_count": 4,
   "id": "0f16ce96",
   "metadata": {},
   "outputs": [
    {
     "name": "stdout",
     "output_type": "stream",
     "text": [
      "(6, 4)\n",
      "....#.....\n",
      "....XXXXX#\n",
      "....X...X.\n",
      "..#.X...X.\n",
      "..XXXXX#X.\n",
      "..X.X.X.X.\n",
      ".#XXXXXXX.\n",
      ".XXXXXXX#.\n",
      "#XXXXXXX..\n",
      "......#X..\n"
     ]
    }
   ],
   "source": [
    "tmp = Grid(test)\n",
    "print(tmp.guard_pos)\n",
    "tmp.move_until_gone()\n",
    "print(tmp)"
   ]
  },
  {
   "cell_type": "code",
   "execution_count": 61,
   "id": "306dc0fc",
   "metadata": {},
   "outputs": [
    {
     "name": "stdout",
     "output_type": "stream",
     "text": [
      "....#.....\n",
      ".........#\n",
      "..........\n",
      "..#.......\n",
      ".......#..\n",
      "..........\n",
      ".#..^.....\n",
      "........#.\n",
      "#.........\n",
      "......#...\n",
      "....#.....\n",
      "....XXXXX#\n",
      "....X...X.\n",
      "..#.X...X.\n",
      "..XXXXX#X.\n",
      "..X.X.X.X.\n",
      ".#XXXXXXX.\n",
      ".XXXXXXX#.\n",
      "#XXXXXXX..\n",
      "......#X..\n"
     ]
    }
   ],
   "source": [
    "tmp.reset((6,4))\n",
    "print(tmp)\n",
    "tmp.move_until_gone()\n",
    "print(tmp)"
   ]
  },
  {
   "cell_type": "code",
   "execution_count": 5,
   "id": "bf0baec6",
   "metadata": {},
   "outputs": [
    {
     "data": {
      "text/plain": [
       "41"
      ]
     },
     "execution_count": 5,
     "metadata": {},
     "output_type": "execute_result"
    }
   ],
   "source": [
    "len(set([x[0] for x in tmp.moves]))"
   ]
  },
  {
   "cell_type": "markdown",
   "id": "2eb8bb32",
   "metadata": {},
   "source": [
    "## First part"
   ]
  },
  {
   "cell_type": "code",
   "execution_count": 6,
   "id": "1a940e34",
   "metadata": {},
   "outputs": [
    {
     "data": {
      "text/plain": [
       "True"
      ]
     },
     "execution_count": 6,
     "metadata": {},
     "output_type": "execute_result"
    }
   ],
   "source": [
    "f = open(\"Day6_input.txt\")\n",
    "tmp = Grid(f.read())\n",
    "f.close()\n",
    "tmp.move_until_gone()"
   ]
  },
  {
   "cell_type": "code",
   "execution_count": 29,
   "id": "31662955",
   "metadata": {},
   "outputs": [],
   "source": [
    "tmp.reset()"
   ]
  },
  {
   "cell_type": "code",
   "execution_count": 6,
   "id": "120771e5",
   "metadata": {},
   "outputs": [
    {
     "data": {
      "text/plain": [
       "(130, 24)"
      ]
     },
     "execution_count": 6,
     "metadata": {},
     "output_type": "execute_result"
    }
   ],
   "source": [
    "tmp.guard_pos"
   ]
  },
  {
   "cell_type": "code",
   "execution_count": 30,
   "id": "10e7fb06",
   "metadata": {},
   "outputs": [
    {
     "data": {
      "text/plain": [
       "0"
      ]
     },
     "execution_count": 30,
     "metadata": {},
     "output_type": "execute_result"
    }
   ],
   "source": [
    "len(set([x[0] for x in tmp.moves]))"
   ]
  },
  {
   "cell_type": "markdown",
   "id": "1a4e309d",
   "metadata": {},
   "source": [
    "## Second part"
   ]
  },
  {
   "cell_type": "code",
   "execution_count": 31,
   "id": "238c74da",
   "metadata": {},
   "outputs": [],
   "source": [
    "f = open(\"Day6_input.txt\")\n",
    "tmp = Grid(f.read())\n",
    "f.close()\n",
    "#list of position where we can put the obstacle\n",
    "can_put = [(x,y) for x in range(tmp.lx) for y in range(tmp.ly) if (((x,y) not in tmp.obstacles) and ((x,y) not in tmp.guard_pos))]\n",
    "tot = []\n",
    "for pos in can_put:\n",
    "    tmp.add_obstacle(pos)\n",
    "    tot.append(tmp.move_until_gone())\n",
    "    tmp.reset()\n"
   ]
  },
  {
   "cell_type": "code",
   "execution_count": 37,
   "id": "f326691a",
   "metadata": {},
   "outputs": [
    {
     "data": {
      "text/plain": [
       "0"
      ]
     },
     "execution_count": 37,
     "metadata": {},
     "output_type": "execute_result"
    }
   ],
   "source": [
    "tmp.reset\n",
    "tmp.move_until_gone()\n",
    "len(tmp.moves)"
   ]
  },
  {
   "cell_type": "code",
   "execution_count": 294,
   "id": "518215d0",
   "metadata": {},
   "outputs": [
    {
     "name": "stdout",
     "output_type": "stream",
     "text": [
      "tsf<\n"
     ]
    }
   ],
   "source": [
    "print(\"tsf<\")"
   ]
  },
  {
   "cell_type": "code",
   "execution_count": null,
   "id": "c5cb682e",
   "metadata": {},
   "outputs": [],
   "source": []
  }
 ],
 "metadata": {
  "kernelspec": {
   "display_name": "adventcode",
   "language": "python",
   "name": "python3"
  },
  "language_info": {
   "codemirror_mode": {
    "name": "ipython",
    "version": 3
   },
   "file_extension": ".py",
   "mimetype": "text/x-python",
   "name": "python",
   "nbconvert_exporter": "python",
   "pygments_lexer": "ipython3",
   "version": "3.13.8"
  }
 },
 "nbformat": 4,
 "nbformat_minor": 5
}
