{
 "cells": [
  {
   "cell_type": "code",
   "execution_count": null,
   "id": "e9874000",
   "metadata": {},
   "outputs": [],
   "source": [
    "from re import findall,compile"
   ]
  },
  {
   "cell_type": "code",
   "execution_count": 121,
   "id": "3c421813",
   "metadata": {},
   "outputs": [],
   "source": [
    "def domult(corrupted):\n",
    "    som = 0\n",
    "    pattern = compile(r\"mul\\(\\d{1,3},\\d{1,3}\\)\")\n",
    "    for match in  findall(pattern,corrupted):\n",
    "        x,y = findall(\"\\\\d{1,3}\",match)\n",
    "        som += int(x)*int(y)\n",
    "    return som"
   ]
  },
  {
   "cell_type": "markdown",
   "id": "b7c439f8",
   "metadata": {},
   "source": [
    "## Example"
   ]
  },
  {
   "cell_type": "code",
   "execution_count": 95,
   "id": "edc47ce9",
   "metadata": {},
   "outputs": [],
   "source": [
    "corrupted = \"xmul(2,4)&mul[3,7]!^don't()_mul(5,5)+mul(32,64](mul(11,8)undo()?mul(8,5))\""
   ]
  },
  {
   "cell_type": "code",
   "execution_count": 122,
   "id": "3afd33df",
   "metadata": {},
   "outputs": [
    {
     "data": {
      "text/plain": [
       "161"
      ]
     },
     "execution_count": 122,
     "metadata": {},
     "output_type": "execute_result"
    }
   ],
   "source": [
    "domult(corrupted)"
   ]
  },
  {
   "cell_type": "markdown",
   "id": "1af4f130",
   "metadata": {},
   "source": [
    "## First part"
   ]
  },
  {
   "cell_type": "code",
   "execution_count": 123,
   "id": "5148f408",
   "metadata": {},
   "outputs": [
    {
     "data": {
      "text/plain": [
       "178886550"
      ]
     },
     "execution_count": 123,
     "metadata": {},
     "output_type": "execute_result"
    }
   ],
   "source": [
    "som = 0\n",
    "with open(\"Day3_input.txt\") as f:\n",
    "    for x in f:\n",
    "        som += domult(x)\n",
    "som"
   ]
  },
  {
   "cell_type": "markdown",
   "id": "2ccfffda",
   "metadata": {},
   "source": [
    "## Second part"
   ]
  },
  {
   "cell_type": "code",
   "execution_count": 127,
   "id": "1d018946",
   "metadata": {},
   "outputs": [],
   "source": [
    "def domult_cond(corrupted):\n",
    "    som = 0\n",
    "    pattern = compile(r\"don't\\(\\)|mul\\(\\d{1,3},\\d{1,3}\\)|do\\(\\)\")\n",
    "    all = findall(pattern,corrupted)\n",
    "    selected = []\n",
    "    select = True\n",
    "    for match in all:\n",
    "        if match == \"don't()\":\n",
    "              select = False\n",
    "        elif match == \"do()\":\n",
    "                select = True\n",
    "        else:\n",
    "            if select:\n",
    "                selected.append(match)\n",
    "    for match in selected:\n",
    "        x,y = findall(\"\\\\d{1,3}\",match)\n",
    "        som += int(x)*int(y)\n",
    "    return som"
   ]
  },
  {
   "cell_type": "code",
   "execution_count": 133,
   "id": "1a299a25",
   "metadata": {},
   "outputs": [
    {
     "name": "stdout",
     "output_type": "stream",
     "text": [
      "87163705\n"
     ]
    }
   ],
   "source": [
    "with open(\"Day3_input.txt\") as f:\n",
    "    print(domult_cond(f.read()))"
   ]
  }
 ],
 "metadata": {
  "kernelspec": {
   "display_name": "adventcode",
   "language": "python",
   "name": "python3"
  },
  "language_info": {
   "codemirror_mode": {
    "name": "ipython",
    "version": 3
   },
   "file_extension": ".py",
   "mimetype": "text/x-python",
   "name": "python",
   "nbconvert_exporter": "python",
   "pygments_lexer": "ipython3",
   "version": "3.13.8"
  }
 },
 "nbformat": 4,
 "nbformat_minor": 5
}
