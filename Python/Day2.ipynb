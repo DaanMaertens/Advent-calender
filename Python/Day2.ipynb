{
 "cells": [
  {
   "cell_type": "code",
   "execution_count": 66,
   "id": "685559cc",
   "metadata": {},
   "outputs": [],
   "source": [
    "import numpy as np\n",
    "from itertools import combinations"
   ]
  },
  {
   "cell_type": "markdown",
   "id": "96f0a3d8",
   "metadata": {},
   "source": [
    "## Read the file"
   ]
  },
  {
   "cell_type": "code",
   "execution_count": 87,
   "id": "8bb6ce26",
   "metadata": {},
   "outputs": [],
   "source": [
    "file = \"Day2_input.txt\"\n",
    "reports = []\n",
    "with open(file) as f:\n",
    "    for x in f:\n",
    "        x = x.rstrip().split(\" \")\n",
    "        reports.append(np.int64(x))"
   ]
  },
  {
   "cell_type": "markdown",
   "id": "bbdcd1de",
   "metadata": {},
   "source": [
    "## First part"
   ]
  },
  {
   "cell_type": "code",
   "execution_count": 85,
   "id": "275553d8",
   "metadata": {},
   "outputs": [],
   "source": [
    "def issafe(vals):\n",
    "    deltas = np.diff(vals)\n",
    "    return (np.all(deltas < 0) or np.all(deltas > 0)) and (np.all(np.abs(deltas) < 4) and np.all(0 < np.abs(deltas)))"
   ]
  },
  {
   "cell_type": "code",
   "execution_count": null,
   "id": "cd4ac58d",
   "metadata": {},
   "outputs": [
    {
     "data": {
      "text/plain": [
       "526"
      ]
     },
     "metadata": {},
     "output_type": "display_data"
    }
   ],
   "source": [
    "len([report for report in reports if issafe(report)])"
   ]
  },
  {
   "cell_type": "markdown",
   "id": "48ae79a4",
   "metadata": {},
   "source": [
    "## Second part"
   ]
  },
  {
   "cell_type": "code",
   "execution_count": 81,
   "id": "fde76534",
   "metadata": {},
   "outputs": [],
   "source": [
    "def issafe_tolerant(vals):\n",
    "    if issafe(vals):\n",
    "        return True\n",
    "    else:\n",
    "        return any([issafe(x) for x in list(combinations(vals,len(vals)-1))])"
   ]
  },
  {
   "cell_type": "code",
   "execution_count": 88,
   "id": "9058bfd7",
   "metadata": {},
   "outputs": [
    {
     "data": {
      "text/plain": [
       "566"
      ]
     },
     "execution_count": 88,
     "metadata": {},
     "output_type": "execute_result"
    }
   ],
   "source": [
    "len([report for report in reports if issafe_tolerant(report)])"
   ]
  },
  {
   "cell_type": "code",
   "execution_count": null,
   "id": "d2348e2e",
   "metadata": {},
   "outputs": [],
   "source": []
  }
 ],
 "metadata": {
  "kernelspec": {
   "display_name": "adventcode",
   "language": "python",
   "name": "python3"
  },
  "language_info": {
   "codemirror_mode": {
    "name": "ipython",
    "version": 3
   },
   "file_extension": ".py",
   "mimetype": "text/x-python",
   "name": "python",
   "nbconvert_exporter": "python",
   "pygments_lexer": "ipython3",
   "version": "3.13.8"
  }
 },
 "nbformat": 4,
 "nbformat_minor": 5
}
