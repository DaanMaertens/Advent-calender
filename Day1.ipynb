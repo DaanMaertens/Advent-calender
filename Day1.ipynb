{
 "cells": [
  {
   "cell_type": "code",
   "execution_count": 42,
   "id": "1ca28e2f",
   "metadata": {},
   "outputs": [],
   "source": [
    "import numpy as np\n",
    "from collections import Counter"
   ]
  },
  {
   "cell_type": "markdown",
   "id": "0e2aaf55",
   "metadata": {},
   "source": [
    "## Read the text file"
   ]
  },
  {
   "cell_type": "code",
   "execution_count": 50,
   "id": "e20f38ca",
   "metadata": {},
   "outputs": [],
   "source": [
    "file = \"Day1_input.txt\"\n",
    "lc,rc = [],[]\n",
    "with open(file) as f:\n",
    "    for x in f:\n",
    "        n1,n2 = x.rstrip().split(\"  \")\n",
    "        n1,n2 = int(n1),int(n2)\n",
    "        lc.append(n1)\n",
    "        rc.append(n2)"
   ]
  },
  {
   "cell_type": "markdown",
   "id": "5bbb0be2",
   "metadata": {},
   "source": [
    "## First part"
   ]
  },
  {
   "cell_type": "code",
   "execution_count": 52,
   "id": "321b6c0f",
   "metadata": {},
   "outputs": [
    {
     "data": {
      "text/plain": [
       "np.int64(2264607)"
      ]
     },
     "execution_count": 52,
     "metadata": {},
     "output_type": "execute_result"
    }
   ],
   "source": [
    "lc,rc = np.sort(lc),np.sort(rc)\n",
    "np.sum(np.abs(lc-rc))"
   ]
  },
  {
   "cell_type": "markdown",
   "id": "78708fb3",
   "metadata": {},
   "source": [
    "## Second part"
   ]
  },
  {
   "cell_type": "code",
   "execution_count": 57,
   "id": "d8e8e57f",
   "metadata": {},
   "outputs": [
    {
     "data": {
      "text/plain": [
       "np.int64(19457120)"
      ]
     },
     "execution_count": 57,
     "metadata": {},
     "output_type": "execute_result"
    }
   ],
   "source": [
    "lc_counts = Counter(lc)\n",
    "lr_counts = Counter(rc)\n",
    "som = 0\n",
    "for (k,v) in lc_counts.items():\n",
    "    som += k*v*lr_counts[k]\n",
    "som"
   ]
  }
 ],
 "metadata": {
  "kernelspec": {
   "display_name": "adventcode",
   "language": "python",
   "name": "python3"
  },
  "language_info": {
   "codemirror_mode": {
    "name": "ipython",
    "version": 3
   },
   "file_extension": ".py",
   "mimetype": "text/x-python",
   "name": "python",
   "nbconvert_exporter": "python",
   "pygments_lexer": "ipython3",
   "version": "3.13.8"
  }
 },
 "nbformat": 4,
 "nbformat_minor": 5
}
