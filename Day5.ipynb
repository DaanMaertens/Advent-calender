{
 "cells": [
  {
   "cell_type": "code",
   "execution_count": 46,
   "id": "f0a3eb1f",
   "metadata": {},
   "outputs": [],
   "source": [
    "from re import findall,search"
   ]
  },
  {
   "cell_type": "markdown",
   "id": "d4c6bab4",
   "metadata": {},
   "source": [
    "## Example"
   ]
  },
  {
   "cell_type": "code",
   "execution_count": 1,
   "id": "2fe59acc",
   "metadata": {},
   "outputs": [],
   "source": [
    "test = \"\"\"47|53\n",
    "97|13\n",
    "97|61\n",
    "97|47\n",
    "75|29\n",
    "61|13\n",
    "75|53\n",
    "29|13\n",
    "97|29\n",
    "53|29\n",
    "61|53\n",
    "97|53\n",
    "61|29\n",
    "47|13\n",
    "75|47\n",
    "97|75\n",
    "47|61\n",
    "75|61\n",
    "47|29\n",
    "75|13\n",
    "53|13\n",
    "\n",
    "75,47,61,53,29\n",
    "97,61,53,29,13\n",
    "75,29,13\n",
    "75,97,47,61,53\n",
    "61,13,29\n",
    "97,13,75,29,47\"\"\""
   ]
  },
  {
   "cell_type": "code",
   "execution_count": 82,
   "id": "3d46442b",
   "metadata": {},
   "outputs": [
    {
     "data": {
      "text/plain": [
       "'53|29'"
      ]
     },
     "execution_count": 82,
     "metadata": {},
     "output_type": "execute_result"
    }
   ],
   "source": [
    "rules,pages = test.split(\"\\n\\n\")\n",
    "rules = rules.split(\"\\n\")\n",
    "pages = pages.split(\"\\n\")"
   ]
  },
  {
   "cell_type": "code",
   "execution_count": 87,
   "id": "957f07c7",
   "metadata": {},
   "outputs": [],
   "source": [
    "def rulecheck(rule,pages):\n",
    "    if len(findall(rule,pages)) < 2:\n",
    "        return True\n",
    "    else:\n",
    "        pattern = \"({}),.*,?({})\".format(rule[:2],rule[-2:])\n",
    "        if search(pattern,pages) is None:\n",
    "            return False\n",
    "        else:\n",
    "            return True\n"
   ]
  },
  {
   "cell_type": "code",
   "execution_count": 109,
   "id": "1bb268cc",
   "metadata": {},
   "outputs": [],
   "source": [
    "def pagecheck(rules,pages):\n",
    "    if all([rulecheck(rule,pages) for rule in rules]):\n",
    "        pages = pages.split(\",\")\n",
    "        return int(pages[len(pages)//2])\n",
    "    else:\n",
    "        return 0"
   ]
  },
  {
   "cell_type": "code",
   "execution_count": 110,
   "id": "0156b013",
   "metadata": {},
   "outputs": [
    {
     "data": {
      "text/plain": [
       "143"
      ]
     },
     "execution_count": 110,
     "metadata": {},
     "output_type": "execute_result"
    }
   ],
   "source": [
    "sum([pagecheck(rules,page) for page in pages])"
   ]
  },
  {
   "cell_type": "markdown",
   "id": "b0d6dd9b",
   "metadata": {},
   "source": [
    "## First part"
   ]
  },
  {
   "cell_type": "code",
   "execution_count": 111,
   "id": "f1c01473",
   "metadata": {},
   "outputs": [
    {
     "name": "stdout",
     "output_type": "stream",
     "text": [
      "6242\n"
     ]
    }
   ],
   "source": [
    "with open(\"Day5_input.txt\") as f:\n",
    "    rules,pages = f.read().split(\"\\n\\n\")\n",
    "    rules = rules.split(\"\\n\")\n",
    "    pages = pages.split(\"\\n\")\n",
    "    print(sum([pagecheck(rules,page) for page in pages]))"
   ]
  },
  {
   "cell_type": "markdown",
   "id": "4cbc166a",
   "metadata": {},
   "source": [
    "## Second part"
   ]
  },
  {
   "cell_type": "code",
   "execution_count": null,
   "id": "c0d5246d",
   "metadata": {},
   "outputs": [],
   "source": [
    "def rulecheck_and_fix(rule,pages):\n",
    "    if len(findall(rule,pages)) < 2:\n",
    "        return True\n",
    "    else:\n",
    "        pattern = \"({}),.*,?({})\".format(rule[:2],rule[-2:])\n",
    "        if search(pattern,pages) is None:\n",
    "            # fix the pattern \n",
    "        else:\n",
    "            return True\n"
   ]
  }
 ],
 "metadata": {
  "kernelspec": {
   "display_name": "adventcode",
   "language": "python",
   "name": "python3"
  },
  "language_info": {
   "codemirror_mode": {
    "name": "ipython",
    "version": 3
   },
   "file_extension": ".py",
   "mimetype": "text/x-python",
   "name": "python",
   "nbconvert_exporter": "python",
   "pygments_lexer": "ipython3",
   "version": "3.13.8"
  }
 },
 "nbformat": 4,
 "nbformat_minor": 5
}
